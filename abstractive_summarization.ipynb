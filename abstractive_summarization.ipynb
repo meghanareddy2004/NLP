{
  "nbformat": 4,
  "nbformat_minor": 0,
  "metadata": {
    "colab": {
      "provenance": []
    },
    "kernelspec": {
      "name": "python3",
      "display_name": "Python 3"
    },
    "language_info": {
      "name": "python"
    }
  },
  "cells": [
    {
      "cell_type": "code",
      "execution_count": 42,
      "metadata": {
        "id": "TXu_iosbmqRG",
        "colab": {
          "base_uri": "https://localhost:8080/"
        },
        "outputId": "c3c153f7-dc0a-4449-9431-a0108acc4947"
      },
      "outputs": [
        {
          "output_type": "stream",
          "name": "stdout",
          "text": [
            "Requirement already satisfied: transformers in /usr/local/lib/python3.10/dist-packages (4.47.0)\n",
            "Requirement already satisfied: filelock in /usr/local/lib/python3.10/dist-packages (from transformers) (3.16.1)\n",
            "Requirement already satisfied: huggingface-hub<1.0,>=0.24.0 in /usr/local/lib/python3.10/dist-packages (from transformers) (0.26.5)\n",
            "Requirement already satisfied: numpy>=1.17 in /usr/local/lib/python3.10/dist-packages (from transformers) (1.26.4)\n",
            "Requirement already satisfied: packaging>=20.0 in /usr/local/lib/python3.10/dist-packages (from transformers) (24.2)\n",
            "Requirement already satisfied: pyyaml>=5.1 in /usr/local/lib/python3.10/dist-packages (from transformers) (6.0.2)\n",
            "Requirement already satisfied: regex!=2019.12.17 in /usr/local/lib/python3.10/dist-packages (from transformers) (2024.9.11)\n",
            "Requirement already satisfied: requests in /usr/local/lib/python3.10/dist-packages (from transformers) (2.32.3)\n",
            "Requirement already satisfied: tokenizers<0.22,>=0.21 in /usr/local/lib/python3.10/dist-packages (from transformers) (0.21.0)\n",
            "Requirement already satisfied: safetensors>=0.4.1 in /usr/local/lib/python3.10/dist-packages (from transformers) (0.4.5)\n",
            "Requirement already satisfied: tqdm>=4.27 in /usr/local/lib/python3.10/dist-packages (from transformers) (4.66.6)\n",
            "Requirement already satisfied: fsspec>=2023.5.0 in /usr/local/lib/python3.10/dist-packages (from huggingface-hub<1.0,>=0.24.0->transformers) (2024.10.0)\n",
            "Requirement already satisfied: typing-extensions>=3.7.4.3 in /usr/local/lib/python3.10/dist-packages (from huggingface-hub<1.0,>=0.24.0->transformers) (4.12.2)\n",
            "Requirement already satisfied: charset-normalizer<4,>=2 in /usr/local/lib/python3.10/dist-packages (from requests->transformers) (3.4.0)\n",
            "Requirement already satisfied: idna<4,>=2.5 in /usr/local/lib/python3.10/dist-packages (from requests->transformers) (3.10)\n",
            "Requirement already satisfied: urllib3<3,>=1.21.1 in /usr/local/lib/python3.10/dist-packages (from requests->transformers) (2.2.3)\n",
            "Requirement already satisfied: certifi>=2017.4.17 in /usr/local/lib/python3.10/dist-packages (from requests->transformers) (2024.8.30)\n",
            "Requirement already satisfied: sentencepiece in /usr/local/lib/python3.10/dist-packages (0.2.0)\n",
            "Requirement already satisfied: rouge in /usr/local/lib/python3.10/dist-packages (1.0.1)\n",
            "Requirement already satisfied: six in /usr/local/lib/python3.10/dist-packages (from rouge) (1.17.0)\n",
            "Requirement already satisfied: nltk in /usr/local/lib/python3.10/dist-packages (3.9.1)\n",
            "Requirement already satisfied: click in /usr/local/lib/python3.10/dist-packages (from nltk) (8.1.7)\n",
            "Requirement already satisfied: joblib in /usr/local/lib/python3.10/dist-packages (from nltk) (1.4.2)\n",
            "Requirement already satisfied: regex>=2021.8.3 in /usr/local/lib/python3.10/dist-packages (from nltk) (2024.9.11)\n",
            "Requirement already satisfied: tqdm in /usr/local/lib/python3.10/dist-packages (from nltk) (4.66.6)\n"
          ]
        },
        {
          "output_type": "stream",
          "name": "stderr",
          "text": [
            "[nltk_data] Downloading package punkt to /root/nltk_data...\n",
            "[nltk_data]   Package punkt is already up-to-date!\n"
          ]
        }
      ],
      "source": [
        "!pip install -U transformers\n",
        "!pip install sentencepiece\n",
        "!pip install rouge\n",
        "!pip install nltk\n",
        "import torch\n",
        "import nltk\n",
        "nltk.download('punkt')\n",
        "import json\n",
        "from transformers import BartTokenizer, BartForConditionalGeneration, BartConfig\n",
        "from rouge import Rouge\n",
        "import torch\n",
        "import json\n",
        "from transformers import T5Tokenizer, T5ForConditionalGeneration, T5Config"
      ]
    },
    {
      "cell_type": "code",
      "source": [
        "import numpy as np\n",
        "import pandas as pd"
      ],
      "metadata": {
        "id": "SjaMB5ihmr5d"
      },
      "execution_count": 43,
      "outputs": []
    },
    {
      "cell_type": "markdown",
      "source": [],
      "metadata": {
        "id": "NVwAmzyNm73Q"
      }
    },
    {
      "cell_type": "code",
      "source": [
        "news_data=pd.read_csv('news_summary.csv',encoding='latin')"
      ],
      "metadata": {
        "id": "Sek-OcHtm8oy"
      },
      "execution_count": 44,
      "outputs": []
    },
    {
      "cell_type": "code",
      "source": [
        "news_data.head(1)"
      ],
      "metadata": {
        "id": "GHkzlRI4nUSy",
        "colab": {
          "base_uri": "https://localhost:8080/",
          "height": 98
        },
        "outputId": "0abfe79a-3230-4f9f-c9a1-13f9c862d4a1"
      },
      "execution_count": 45,
      "outputs": [
        {
          "output_type": "execute_result",
          "data": {
            "text/plain": [
              "         author                  date  \\\n",
              "0  Chhavi Tyagi  03 Aug 2017,Thursday   \n",
              "\n",
              "                                           headlines  \\\n",
              "0  Daman & Diu revokes mandatory Rakshabandhan in...   \n",
              "\n",
              "                                           read_more  \\\n",
              "0  http://www.hindustantimes.com/india-news/raksh...   \n",
              "\n",
              "                                                text  \\\n",
              "0  The Administration of Union Territory Daman an...   \n",
              "\n",
              "                                               ctext  \n",
              "0  The Daman and Diu administration on Wednesday ...  "
            ],
            "text/html": [
              "\n",
              "  <div id=\"df-5d4c85f6-0fd2-4a81-be34-1d19a9db8f60\" class=\"colab-df-container\">\n",
              "    <div>\n",
              "<style scoped>\n",
              "    .dataframe tbody tr th:only-of-type {\n",
              "        vertical-align: middle;\n",
              "    }\n",
              "\n",
              "    .dataframe tbody tr th {\n",
              "        vertical-align: top;\n",
              "    }\n",
              "\n",
              "    .dataframe thead th {\n",
              "        text-align: right;\n",
              "    }\n",
              "</style>\n",
              "<table border=\"1\" class=\"dataframe\">\n",
              "  <thead>\n",
              "    <tr style=\"text-align: right;\">\n",
              "      <th></th>\n",
              "      <th>author</th>\n",
              "      <th>date</th>\n",
              "      <th>headlines</th>\n",
              "      <th>read_more</th>\n",
              "      <th>text</th>\n",
              "      <th>ctext</th>\n",
              "    </tr>\n",
              "  </thead>\n",
              "  <tbody>\n",
              "    <tr>\n",
              "      <th>0</th>\n",
              "      <td>Chhavi Tyagi</td>\n",
              "      <td>03 Aug 2017,Thursday</td>\n",
              "      <td>Daman &amp; Diu revokes mandatory Rakshabandhan in...</td>\n",
              "      <td>http://www.hindustantimes.com/india-news/raksh...</td>\n",
              "      <td>The Administration of Union Territory Daman an...</td>\n",
              "      <td>The Daman and Diu administration on Wednesday ...</td>\n",
              "    </tr>\n",
              "  </tbody>\n",
              "</table>\n",
              "</div>\n",
              "    <div class=\"colab-df-buttons\">\n",
              "\n",
              "  <div class=\"colab-df-container\">\n",
              "    <button class=\"colab-df-convert\" onclick=\"convertToInteractive('df-5d4c85f6-0fd2-4a81-be34-1d19a9db8f60')\"\n",
              "            title=\"Convert this dataframe to an interactive table.\"\n",
              "            style=\"display:none;\">\n",
              "\n",
              "  <svg xmlns=\"http://www.w3.org/2000/svg\" height=\"24px\" viewBox=\"0 -960 960 960\">\n",
              "    <path d=\"M120-120v-720h720v720H120Zm60-500h600v-160H180v160Zm220 220h160v-160H400v160Zm0 220h160v-160H400v160ZM180-400h160v-160H180v160Zm440 0h160v-160H620v160ZM180-180h160v-160H180v160Zm440 0h160v-160H620v160Z\"/>\n",
              "  </svg>\n",
              "    </button>\n",
              "\n",
              "  <style>\n",
              "    .colab-df-container {\n",
              "      display:flex;\n",
              "      gap: 12px;\n",
              "    }\n",
              "\n",
              "    .colab-df-convert {\n",
              "      background-color: #E8F0FE;\n",
              "      border: none;\n",
              "      border-radius: 50%;\n",
              "      cursor: pointer;\n",
              "      display: none;\n",
              "      fill: #1967D2;\n",
              "      height: 32px;\n",
              "      padding: 0 0 0 0;\n",
              "      width: 32px;\n",
              "    }\n",
              "\n",
              "    .colab-df-convert:hover {\n",
              "      background-color: #E2EBFA;\n",
              "      box-shadow: 0px 1px 2px rgba(60, 64, 67, 0.3), 0px 1px 3px 1px rgba(60, 64, 67, 0.15);\n",
              "      fill: #174EA6;\n",
              "    }\n",
              "\n",
              "    .colab-df-buttons div {\n",
              "      margin-bottom: 4px;\n",
              "    }\n",
              "\n",
              "    [theme=dark] .colab-df-convert {\n",
              "      background-color: #3B4455;\n",
              "      fill: #D2E3FC;\n",
              "    }\n",
              "\n",
              "    [theme=dark] .colab-df-convert:hover {\n",
              "      background-color: #434B5C;\n",
              "      box-shadow: 0px 1px 3px 1px rgba(0, 0, 0, 0.15);\n",
              "      filter: drop-shadow(0px 1px 2px rgba(0, 0, 0, 0.3));\n",
              "      fill: #FFFFFF;\n",
              "    }\n",
              "  </style>\n",
              "\n",
              "    <script>\n",
              "      const buttonEl =\n",
              "        document.querySelector('#df-5d4c85f6-0fd2-4a81-be34-1d19a9db8f60 button.colab-df-convert');\n",
              "      buttonEl.style.display =\n",
              "        google.colab.kernel.accessAllowed ? 'block' : 'none';\n",
              "\n",
              "      async function convertToInteractive(key) {\n",
              "        const element = document.querySelector('#df-5d4c85f6-0fd2-4a81-be34-1d19a9db8f60');\n",
              "        const dataTable =\n",
              "          await google.colab.kernel.invokeFunction('convertToInteractive',\n",
              "                                                    [key], {});\n",
              "        if (!dataTable) return;\n",
              "\n",
              "        const docLinkHtml = 'Like what you see? Visit the ' +\n",
              "          '<a target=\"_blank\" href=https://colab.research.google.com/notebooks/data_table.ipynb>data table notebook</a>'\n",
              "          + ' to learn more about interactive tables.';\n",
              "        element.innerHTML = '';\n",
              "        dataTable['output_type'] = 'display_data';\n",
              "        await google.colab.output.renderOutput(dataTable, element);\n",
              "        const docLink = document.createElement('div');\n",
              "        docLink.innerHTML = docLinkHtml;\n",
              "        element.appendChild(docLink);\n",
              "      }\n",
              "    </script>\n",
              "  </div>\n",
              "\n",
              "\n",
              "    </div>\n",
              "  </div>\n"
            ],
            "application/vnd.google.colaboratory.intrinsic+json": {
              "type": "dataframe",
              "variable_name": "news_data",
              "summary": "{\n  \"name\": \"news_data\",\n  \"rows\": 4514,\n  \"fields\": [\n    {\n      \"column\": \"author\",\n      \"properties\": {\n        \"dtype\": \"category\",\n        \"num_unique_values\": 45,\n        \"samples\": [\n          \"Animesh Choudhary\",\n          \"Swarnim Bagre\",\n          \"Rini Sinha\"\n        ],\n        \"semantic_type\": \"\",\n        \"description\": \"\"\n      }\n    },\n    {\n      \"column\": \"date\",\n      \"properties\": {\n        \"dtype\": \"object\",\n        \"num_unique_values\": 240,\n        \"samples\": [\n          \"16 Feb 2017,Thursday\",\n          \"28 Jul 2017,Friday\",\n          \"09 Dec 2016,Friday\"\n        ],\n        \"semantic_type\": \"\",\n        \"description\": \"\"\n      }\n    },\n    {\n      \"column\": \"headlines\",\n      \"properties\": {\n        \"dtype\": \"string\",\n        \"num_unique_values\": 4514,\n        \"samples\": [\n          \"South Delhi restaurants to allow public to use toilets at ?5\",\n          \"China bans Bieber from performing over bad behaviour\",\n          \"Pakistan accuses India of targeting CPEC\"\n        ],\n        \"semantic_type\": \"\",\n        \"description\": \"\"\n      }\n    },\n    {\n      \"column\": \"read_more\",\n      \"properties\": {\n        \"dtype\": \"string\",\n        \"num_unique_values\": 4461,\n        \"samples\": [\n          \"http://www.hindustantimes.com/india-news/rjd-leader-close-to-shahabuddin-shot-dead-in-bihar-s-siwan/story-nNJ50rMCX9KqxdBsfUv5VM.html?utm_source=inshorts&utm_medium=referral&utm_campaign=fullarticle \",\n          \"https://www.theguardian.com/business/2017/jul/17/primark-recalls-mens-flip-flops-after-carcinogenic-chemical-discovery?utm_source=inshorts&utm_medium=referral&utm_campaign=fullarticle \",\n          \"http://indiatoday.intoday.in/story/yogi-adityanath-inspired-menu-vegetarian-lucknow-hotel-ssj-international-charbagh-lifefd/1/925947.html \"\n        ],\n        \"semantic_type\": \"\",\n        \"description\": \"\"\n      }\n    },\n    {\n      \"column\": \"text\",\n      \"properties\": {\n        \"dtype\": \"string\",\n        \"num_unique_values\": 4514,\n        \"samples\": [\n          \"All restaurants, including five-star hotels, in South Delhi have been directed by a Delhi civic body to make their toilets available to general public, who are not customers, at a fee of ?5 starting April 1. \\\"The move will be particularly beneficial for women who face problems due to lack of toilets in marketplaces,\\\" the South Delhi Municipal Corporation said.\",\n          \"The Chinese government has banned singer Justin Bieber from performing in the country as he has \\\"engaged in a series of bad behaviours, both in his social life and during a previous performance in China\\\". Bieber will perform in Asia later this year, with concerts scheduled in countries like Indonesia, Japan and Singapore, as part of his Purpose World Tour.\",\n          \"Pakistan on Saturday accused India of targeting the China-Pakistan Economic Corridor (CPEC) project through subversive activities. Pakistan further said that it is aware of \\\"enemy designs\\\" and is taking effective counter measures. Notably, India which has repeatedly dismissed all such allegations has raised sovereignty concerns over the project as it passes through Pakistan-occupied Kashmir.\"\n        ],\n        \"semantic_type\": \"\",\n        \"description\": \"\"\n      }\n    },\n    {\n      \"column\": \"ctext\",\n      \"properties\": {\n        \"dtype\": \"string\",\n        \"num_unique_values\": 4341,\n        \"samples\": [\n          \"If you are a Samsung Galaxy Note fan, you were waiting to hear these words -- Note 7 will be sold in India. Despite all the bad whether it went through before being laid to the grave, Note 7 might come back from the dead; it has to if the company is to minimize losses and environmental penalties incurred in disposal of close to 3 million devices.Update: Samsung has denied that it has any plans to sell refurbished Galaxy Note 7 units in India. \\\"The report on Samsung planning to sell refurbished Galaxy Note 7 smartphone in India is incorrect,\\\" said a Samsung India spokesperson, without offering any other details.\\u00a0 Korean website Hankyung  reports the Galaxy Note 7 is due for a resurrection in select places -- Vietnam, India and probably South Korea. Samsung Electronics will finalise the designs by May this year and will go on sale in June (expected). Several changes will be made to the phone.Also Read:  Galaxy Note 7 exploded due to battery, confirms Samsung Samsung initially announced a recall of some 2.5 million Note 7 phones in September and identified the cause of the fire as a manufacturing process problem at one of its suppliers, but new Note 7s with what Samsung said were safe batteries from a different supplier continued to catch fire.But it was only after a complete recall and \\\"in-depth\\\" analysis of the cause did it make out that it was not the battery material, but the way the battery was shaped to fit in the chassis that caused the short circuit.Now, Samsung will be redesigning both the battery and the chassis. The battery is said to be of a lower capacity -- about 3000mAh, and if Samsung is redesigning the chassis, it might not support a dual curved screen. But it will be called refurbished and the price expected should be considerably cheaper.\",\n          \"The public works department (PWD) has cleared the proposal for the construction of a flyover over the erstwhile NH-58 near Raj Nagar Extension (RNE). After NH-58 was denotified as a highway last year, it was assigned as ?other district road? to the PWD as per a state government notification in June.Due to massive inflow of traffic on the Ghaziabad-Meerut Road (erstwhile NH-58), officials of the Ghaziabad Development Authority (GDA) had proposed the construction of a flyover and also altered the design, by making it a split-type flyover, as the regional rapid transit system (RRTS) corridor passes through the median of the road.?We have given clearance for the project to the GDA. They will have to prepare a service lane in the area and also have to take care of the piped gas line that passes through the area. They will make use of additional land in the vicinity and also remove encroachments. We also reviewed their traffic plan and have given them the permission after a thorough study,? said Manish Verma, executive engineer, PWD.?We also checked the RRTS alignment and had also asked them to take permission from the agency concerned. The clearance was given on a review of the traffic regulation plan and provision for the RRTS alignment. We are also planning to make the road a state highway and will send a proposal to the government. This is because the volume of traffic has remained the same despite the road being denotified as a highway,? he said.The proposed flyover, spanning 538 metres, is pegged at Rs50 crore and its design was changed from combined six-lane to three-lane (each side) split-type one. The middle portion between the two lanes will be used for the RRTS, which will come up on an elevated section, like the metro train system.The authority had proposed the flyover to decongest the city roads as a heavy volume of traffic is witnessed at the intersection.?The design for the flyover has been approved by the RRTS agency. The flyover design report is waiting to be vetted by IIT, Roorkee. The UP state bridge corporation is the construction agency. Once the design is vetted, the flyover construction can be started. We have received clearances from PWD for the project,? said Chakresh Jain, executive engineer, GDA.The authority has also proposed a flyover in Vasundhara, over the Link Road. Officials said that the proposed design is not in conflict with the RRTS alignment and pegged the cost at Rs50 crore.\",\n          \"New Delhi, Jun 30 (PTI) As India transits to a new era with rollout of GST, the government is leaving no stone unturned for a smooth switchover and has asked tax offices to convert into GST Seva-Kendras to provide all assistance to tax payers. While the rollout day of July 1 will be known as GST Day, all the offices of the Central Board of Excise and Customs (CBEC) have been instructed to be open on Saturday as a trade facilitation measure. This was to enable the availability of officers and staff for the benefit of trade and industry, an order issued by CBEC Special Secretary and Member S Ramesh said. \\\"Henceforth, all field offices from the Chief Commissioners office to the Range should serve as GST Seva- Kendras for effective trade facilitation,\\\" it said. Apart from giving guidance to GST assessees, GST Seva Kendras should render assistance to taxpayers in migration, registration as well as filing of returns. A guidance manual for such GST Seva Kendras too has been circulated to all offices in a bid to standardise quality taxpayer services. The order instructed such manuals to be prepared for each zone operating at different levels. \\\"This work may be done in a time-bound manner so as to be completed in next 2-3 days,\\\" Ramesh wrote. CBEC also asked for strengthening of the GST Seva-Kendras to enable them discharge their functions effectively and promptly. In the run-up to the GST rollout, CBEC had organised outreach programmes and training sessions for the new regime. \"\n        ],\n        \"semantic_type\": \"\",\n        \"description\": \"\"\n      }\n    }\n  ]\n}"
            }
          },
          "metadata": {},
          "execution_count": 45
        }
      ]
    },
    {
      "cell_type": "code",
      "source": [
        "news_data = news_data[['text','ctext']]"
      ],
      "metadata": {
        "id": "B5t--g34nXBt"
      },
      "execution_count": 46,
      "outputs": []
    },
    {
      "cell_type": "code",
      "source": [
        "\n",
        "news_data.head()"
      ],
      "metadata": {
        "id": "OynFquBanbFD",
        "colab": {
          "base_uri": "https://localhost:8080/",
          "height": 206
        },
        "outputId": "f47d21f1-ea91-467f-a823-12e4ac25d9e1"
      },
      "execution_count": 47,
      "outputs": [
        {
          "output_type": "execute_result",
          "data": {
            "text/plain": [
              "                                                text  \\\n",
              "0  The Administration of Union Territory Daman an...   \n",
              "1  Malaika Arora slammed an Instagram user who tr...   \n",
              "2  The Indira Gandhi Institute of Medical Science...   \n",
              "3  Lashkar-e-Taiba's Kashmir commander Abu Dujana...   \n",
              "4  Hotels in Maharashtra will train their staff t...   \n",
              "\n",
              "                                               ctext  \n",
              "0  The Daman and Diu administration on Wednesday ...  \n",
              "1  From her special numbers to TV?appearances, Bo...  \n",
              "2  The Indira Gandhi Institute of Medical Science...  \n",
              "3  Lashkar-e-Taiba's Kashmir commander Abu Dujana...  \n",
              "4  Hotels in Mumbai and other Indian cities are t...  "
            ],
            "text/html": [
              "\n",
              "  <div id=\"df-4f502995-ce6a-4c1e-b8ba-ae85a8092909\" class=\"colab-df-container\">\n",
              "    <div>\n",
              "<style scoped>\n",
              "    .dataframe tbody tr th:only-of-type {\n",
              "        vertical-align: middle;\n",
              "    }\n",
              "\n",
              "    .dataframe tbody tr th {\n",
              "        vertical-align: top;\n",
              "    }\n",
              "\n",
              "    .dataframe thead th {\n",
              "        text-align: right;\n",
              "    }\n",
              "</style>\n",
              "<table border=\"1\" class=\"dataframe\">\n",
              "  <thead>\n",
              "    <tr style=\"text-align: right;\">\n",
              "      <th></th>\n",
              "      <th>text</th>\n",
              "      <th>ctext</th>\n",
              "    </tr>\n",
              "  </thead>\n",
              "  <tbody>\n",
              "    <tr>\n",
              "      <th>0</th>\n",
              "      <td>The Administration of Union Territory Daman an...</td>\n",
              "      <td>The Daman and Diu administration on Wednesday ...</td>\n",
              "    </tr>\n",
              "    <tr>\n",
              "      <th>1</th>\n",
              "      <td>Malaika Arora slammed an Instagram user who tr...</td>\n",
              "      <td>From her special numbers to TV?appearances, Bo...</td>\n",
              "    </tr>\n",
              "    <tr>\n",
              "      <th>2</th>\n",
              "      <td>The Indira Gandhi Institute of Medical Science...</td>\n",
              "      <td>The Indira Gandhi Institute of Medical Science...</td>\n",
              "    </tr>\n",
              "    <tr>\n",
              "      <th>3</th>\n",
              "      <td>Lashkar-e-Taiba's Kashmir commander Abu Dujana...</td>\n",
              "      <td>Lashkar-e-Taiba's Kashmir commander Abu Dujana...</td>\n",
              "    </tr>\n",
              "    <tr>\n",
              "      <th>4</th>\n",
              "      <td>Hotels in Maharashtra will train their staff t...</td>\n",
              "      <td>Hotels in Mumbai and other Indian cities are t...</td>\n",
              "    </tr>\n",
              "  </tbody>\n",
              "</table>\n",
              "</div>\n",
              "    <div class=\"colab-df-buttons\">\n",
              "\n",
              "  <div class=\"colab-df-container\">\n",
              "    <button class=\"colab-df-convert\" onclick=\"convertToInteractive('df-4f502995-ce6a-4c1e-b8ba-ae85a8092909')\"\n",
              "            title=\"Convert this dataframe to an interactive table.\"\n",
              "            style=\"display:none;\">\n",
              "\n",
              "  <svg xmlns=\"http://www.w3.org/2000/svg\" height=\"24px\" viewBox=\"0 -960 960 960\">\n",
              "    <path d=\"M120-120v-720h720v720H120Zm60-500h600v-160H180v160Zm220 220h160v-160H400v160Zm0 220h160v-160H400v160ZM180-400h160v-160H180v160Zm440 0h160v-160H620v160ZM180-180h160v-160H180v160Zm440 0h160v-160H620v160Z\"/>\n",
              "  </svg>\n",
              "    </button>\n",
              "\n",
              "  <style>\n",
              "    .colab-df-container {\n",
              "      display:flex;\n",
              "      gap: 12px;\n",
              "    }\n",
              "\n",
              "    .colab-df-convert {\n",
              "      background-color: #E8F0FE;\n",
              "      border: none;\n",
              "      border-radius: 50%;\n",
              "      cursor: pointer;\n",
              "      display: none;\n",
              "      fill: #1967D2;\n",
              "      height: 32px;\n",
              "      padding: 0 0 0 0;\n",
              "      width: 32px;\n",
              "    }\n",
              "\n",
              "    .colab-df-convert:hover {\n",
              "      background-color: #E2EBFA;\n",
              "      box-shadow: 0px 1px 2px rgba(60, 64, 67, 0.3), 0px 1px 3px 1px rgba(60, 64, 67, 0.15);\n",
              "      fill: #174EA6;\n",
              "    }\n",
              "\n",
              "    .colab-df-buttons div {\n",
              "      margin-bottom: 4px;\n",
              "    }\n",
              "\n",
              "    [theme=dark] .colab-df-convert {\n",
              "      background-color: #3B4455;\n",
              "      fill: #D2E3FC;\n",
              "    }\n",
              "\n",
              "    [theme=dark] .colab-df-convert:hover {\n",
              "      background-color: #434B5C;\n",
              "      box-shadow: 0px 1px 3px 1px rgba(0, 0, 0, 0.15);\n",
              "      filter: drop-shadow(0px 1px 2px rgba(0, 0, 0, 0.3));\n",
              "      fill: #FFFFFF;\n",
              "    }\n",
              "  </style>\n",
              "\n",
              "    <script>\n",
              "      const buttonEl =\n",
              "        document.querySelector('#df-4f502995-ce6a-4c1e-b8ba-ae85a8092909 button.colab-df-convert');\n",
              "      buttonEl.style.display =\n",
              "        google.colab.kernel.accessAllowed ? 'block' : 'none';\n",
              "\n",
              "      async function convertToInteractive(key) {\n",
              "        const element = document.querySelector('#df-4f502995-ce6a-4c1e-b8ba-ae85a8092909');\n",
              "        const dataTable =\n",
              "          await google.colab.kernel.invokeFunction('convertToInteractive',\n",
              "                                                    [key], {});\n",
              "        if (!dataTable) return;\n",
              "\n",
              "        const docLinkHtml = 'Like what you see? Visit the ' +\n",
              "          '<a target=\"_blank\" href=https://colab.research.google.com/notebooks/data_table.ipynb>data table notebook</a>'\n",
              "          + ' to learn more about interactive tables.';\n",
              "        element.innerHTML = '';\n",
              "        dataTable['output_type'] = 'display_data';\n",
              "        await google.colab.output.renderOutput(dataTable, element);\n",
              "        const docLink = document.createElement('div');\n",
              "        docLink.innerHTML = docLinkHtml;\n",
              "        element.appendChild(docLink);\n",
              "      }\n",
              "    </script>\n",
              "  </div>\n",
              "\n",
              "\n",
              "<div id=\"df-a1bf4dbe-d04d-4f3d-b0e7-db825552e05c\">\n",
              "  <button class=\"colab-df-quickchart\" onclick=\"quickchart('df-a1bf4dbe-d04d-4f3d-b0e7-db825552e05c')\"\n",
              "            title=\"Suggest charts\"\n",
              "            style=\"display:none;\">\n",
              "\n",
              "<svg xmlns=\"http://www.w3.org/2000/svg\" height=\"24px\"viewBox=\"0 0 24 24\"\n",
              "     width=\"24px\">\n",
              "    <g>\n",
              "        <path d=\"M19 3H5c-1.1 0-2 .9-2 2v14c0 1.1.9 2 2 2h14c1.1 0 2-.9 2-2V5c0-1.1-.9-2-2-2zM9 17H7v-7h2v7zm4 0h-2V7h2v10zm4 0h-2v-4h2v4z\"/>\n",
              "    </g>\n",
              "</svg>\n",
              "  </button>\n",
              "\n",
              "<style>\n",
              "  .colab-df-quickchart {\n",
              "      --bg-color: #E8F0FE;\n",
              "      --fill-color: #1967D2;\n",
              "      --hover-bg-color: #E2EBFA;\n",
              "      --hover-fill-color: #174EA6;\n",
              "      --disabled-fill-color: #AAA;\n",
              "      --disabled-bg-color: #DDD;\n",
              "  }\n",
              "\n",
              "  [theme=dark] .colab-df-quickchart {\n",
              "      --bg-color: #3B4455;\n",
              "      --fill-color: #D2E3FC;\n",
              "      --hover-bg-color: #434B5C;\n",
              "      --hover-fill-color: #FFFFFF;\n",
              "      --disabled-bg-color: #3B4455;\n",
              "      --disabled-fill-color: #666;\n",
              "  }\n",
              "\n",
              "  .colab-df-quickchart {\n",
              "    background-color: var(--bg-color);\n",
              "    border: none;\n",
              "    border-radius: 50%;\n",
              "    cursor: pointer;\n",
              "    display: none;\n",
              "    fill: var(--fill-color);\n",
              "    height: 32px;\n",
              "    padding: 0;\n",
              "    width: 32px;\n",
              "  }\n",
              "\n",
              "  .colab-df-quickchart:hover {\n",
              "    background-color: var(--hover-bg-color);\n",
              "    box-shadow: 0 1px 2px rgba(60, 64, 67, 0.3), 0 1px 3px 1px rgba(60, 64, 67, 0.15);\n",
              "    fill: var(--button-hover-fill-color);\n",
              "  }\n",
              "\n",
              "  .colab-df-quickchart-complete:disabled,\n",
              "  .colab-df-quickchart-complete:disabled:hover {\n",
              "    background-color: var(--disabled-bg-color);\n",
              "    fill: var(--disabled-fill-color);\n",
              "    box-shadow: none;\n",
              "  }\n",
              "\n",
              "  .colab-df-spinner {\n",
              "    border: 2px solid var(--fill-color);\n",
              "    border-color: transparent;\n",
              "    border-bottom-color: var(--fill-color);\n",
              "    animation:\n",
              "      spin 1s steps(1) infinite;\n",
              "  }\n",
              "\n",
              "  @keyframes spin {\n",
              "    0% {\n",
              "      border-color: transparent;\n",
              "      border-bottom-color: var(--fill-color);\n",
              "      border-left-color: var(--fill-color);\n",
              "    }\n",
              "    20% {\n",
              "      border-color: transparent;\n",
              "      border-left-color: var(--fill-color);\n",
              "      border-top-color: var(--fill-color);\n",
              "    }\n",
              "    30% {\n",
              "      border-color: transparent;\n",
              "      border-left-color: var(--fill-color);\n",
              "      border-top-color: var(--fill-color);\n",
              "      border-right-color: var(--fill-color);\n",
              "    }\n",
              "    40% {\n",
              "      border-color: transparent;\n",
              "      border-right-color: var(--fill-color);\n",
              "      border-top-color: var(--fill-color);\n",
              "    }\n",
              "    60% {\n",
              "      border-color: transparent;\n",
              "      border-right-color: var(--fill-color);\n",
              "    }\n",
              "    80% {\n",
              "      border-color: transparent;\n",
              "      border-right-color: var(--fill-color);\n",
              "      border-bottom-color: var(--fill-color);\n",
              "    }\n",
              "    90% {\n",
              "      border-color: transparent;\n",
              "      border-bottom-color: var(--fill-color);\n",
              "    }\n",
              "  }\n",
              "</style>\n",
              "\n",
              "  <script>\n",
              "    async function quickchart(key) {\n",
              "      const quickchartButtonEl =\n",
              "        document.querySelector('#' + key + ' button');\n",
              "      quickchartButtonEl.disabled = true;  // To prevent multiple clicks.\n",
              "      quickchartButtonEl.classList.add('colab-df-spinner');\n",
              "      try {\n",
              "        const charts = await google.colab.kernel.invokeFunction(\n",
              "            'suggestCharts', [key], {});\n",
              "      } catch (error) {\n",
              "        console.error('Error during call to suggestCharts:', error);\n",
              "      }\n",
              "      quickchartButtonEl.classList.remove('colab-df-spinner');\n",
              "      quickchartButtonEl.classList.add('colab-df-quickchart-complete');\n",
              "    }\n",
              "    (() => {\n",
              "      let quickchartButtonEl =\n",
              "        document.querySelector('#df-a1bf4dbe-d04d-4f3d-b0e7-db825552e05c button');\n",
              "      quickchartButtonEl.style.display =\n",
              "        google.colab.kernel.accessAllowed ? 'block' : 'none';\n",
              "    })();\n",
              "  </script>\n",
              "</div>\n",
              "\n",
              "    </div>\n",
              "  </div>\n"
            ],
            "application/vnd.google.colaboratory.intrinsic+json": {
              "type": "dataframe",
              "variable_name": "news_data",
              "summary": "{\n  \"name\": \"news_data\",\n  \"rows\": 4514,\n  \"fields\": [\n    {\n      \"column\": \"text\",\n      \"properties\": {\n        \"dtype\": \"string\",\n        \"num_unique_values\": 4514,\n        \"samples\": [\n          \"All restaurants, including five-star hotels, in South Delhi have been directed by a Delhi civic body to make their toilets available to general public, who are not customers, at a fee of ?5 starting April 1. \\\"The move will be particularly beneficial for women who face problems due to lack of toilets in marketplaces,\\\" the South Delhi Municipal Corporation said.\",\n          \"The Chinese government has banned singer Justin Bieber from performing in the country as he has \\\"engaged in a series of bad behaviours, both in his social life and during a previous performance in China\\\". Bieber will perform in Asia later this year, with concerts scheduled in countries like Indonesia, Japan and Singapore, as part of his Purpose World Tour.\",\n          \"Pakistan on Saturday accused India of targeting the China-Pakistan Economic Corridor (CPEC) project through subversive activities. Pakistan further said that it is aware of \\\"enemy designs\\\" and is taking effective counter measures. Notably, India which has repeatedly dismissed all such allegations has raised sovereignty concerns over the project as it passes through Pakistan-occupied Kashmir.\"\n        ],\n        \"semantic_type\": \"\",\n        \"description\": \"\"\n      }\n    },\n    {\n      \"column\": \"ctext\",\n      \"properties\": {\n        \"dtype\": \"string\",\n        \"num_unique_values\": 4341,\n        \"samples\": [\n          \"If you are a Samsung Galaxy Note fan, you were waiting to hear these words -- Note 7 will be sold in India. Despite all the bad whether it went through before being laid to the grave, Note 7 might come back from the dead; it has to if the company is to minimize losses and environmental penalties incurred in disposal of close to 3 million devices.Update: Samsung has denied that it has any plans to sell refurbished Galaxy Note 7 units in India. \\\"The report on Samsung planning to sell refurbished Galaxy Note 7 smartphone in India is incorrect,\\\" said a Samsung India spokesperson, without offering any other details.\\u00a0 Korean website Hankyung  reports the Galaxy Note 7 is due for a resurrection in select places -- Vietnam, India and probably South Korea. Samsung Electronics will finalise the designs by May this year and will go on sale in June (expected). Several changes will be made to the phone.Also Read:  Galaxy Note 7 exploded due to battery, confirms Samsung Samsung initially announced a recall of some 2.5 million Note 7 phones in September and identified the cause of the fire as a manufacturing process problem at one of its suppliers, but new Note 7s with what Samsung said were safe batteries from a different supplier continued to catch fire.But it was only after a complete recall and \\\"in-depth\\\" analysis of the cause did it make out that it was not the battery material, but the way the battery was shaped to fit in the chassis that caused the short circuit.Now, Samsung will be redesigning both the battery and the chassis. The battery is said to be of a lower capacity -- about 3000mAh, and if Samsung is redesigning the chassis, it might not support a dual curved screen. But it will be called refurbished and the price expected should be considerably cheaper.\",\n          \"The public works department (PWD) has cleared the proposal for the construction of a flyover over the erstwhile NH-58 near Raj Nagar Extension (RNE). After NH-58 was denotified as a highway last year, it was assigned as ?other district road? to the PWD as per a state government notification in June.Due to massive inflow of traffic on the Ghaziabad-Meerut Road (erstwhile NH-58), officials of the Ghaziabad Development Authority (GDA) had proposed the construction of a flyover and also altered the design, by making it a split-type flyover, as the regional rapid transit system (RRTS) corridor passes through the median of the road.?We have given clearance for the project to the GDA. They will have to prepare a service lane in the area and also have to take care of the piped gas line that passes through the area. They will make use of additional land in the vicinity and also remove encroachments. We also reviewed their traffic plan and have given them the permission after a thorough study,? said Manish Verma, executive engineer, PWD.?We also checked the RRTS alignment and had also asked them to take permission from the agency concerned. The clearance was given on a review of the traffic regulation plan and provision for the RRTS alignment. We are also planning to make the road a state highway and will send a proposal to the government. This is because the volume of traffic has remained the same despite the road being denotified as a highway,? he said.The proposed flyover, spanning 538 metres, is pegged at Rs50 crore and its design was changed from combined six-lane to three-lane (each side) split-type one. The middle portion between the two lanes will be used for the RRTS, which will come up on an elevated section, like the metro train system.The authority had proposed the flyover to decongest the city roads as a heavy volume of traffic is witnessed at the intersection.?The design for the flyover has been approved by the RRTS agency. The flyover design report is waiting to be vetted by IIT, Roorkee. The UP state bridge corporation is the construction agency. Once the design is vetted, the flyover construction can be started. We have received clearances from PWD for the project,? said Chakresh Jain, executive engineer, GDA.The authority has also proposed a flyover in Vasundhara, over the Link Road. Officials said that the proposed design is not in conflict with the RRTS alignment and pegged the cost at Rs50 crore.\",\n          \"New Delhi, Jun 30 (PTI) As India transits to a new era with rollout of GST, the government is leaving no stone unturned for a smooth switchover and has asked tax offices to convert into GST Seva-Kendras to provide all assistance to tax payers. While the rollout day of July 1 will be known as GST Day, all the offices of the Central Board of Excise and Customs (CBEC) have been instructed to be open on Saturday as a trade facilitation measure. This was to enable the availability of officers and staff for the benefit of trade and industry, an order issued by CBEC Special Secretary and Member S Ramesh said. \\\"Henceforth, all field offices from the Chief Commissioners office to the Range should serve as GST Seva- Kendras for effective trade facilitation,\\\" it said. Apart from giving guidance to GST assessees, GST Seva Kendras should render assistance to taxpayers in migration, registration as well as filing of returns. A guidance manual for such GST Seva Kendras too has been circulated to all offices in a bid to standardise quality taxpayer services. The order instructed such manuals to be prepared for each zone operating at different levels. \\\"This work may be done in a time-bound manner so as to be completed in next 2-3 days,\\\" Ramesh wrote. CBEC also asked for strengthening of the GST Seva-Kendras to enable them discharge their functions effectively and promptly. In the run-up to the GST rollout, CBEC had organised outreach programmes and training sessions for the new regime. \"\n        ],\n        \"semantic_type\": \"\",\n        \"description\": \"\"\n      }\n    }\n  ]\n}"
            }
          },
          "metadata": {},
          "execution_count": 47
        }
      ]
    },
    {
      "cell_type": "code",
      "source": [
        "news_data.shape"
      ],
      "metadata": {
        "id": "ES5HDx3Jndco",
        "colab": {
          "base_uri": "https://localhost:8080/"
        },
        "outputId": "753698b7-a4f4-4bba-d1ed-9c608293d2db"
      },
      "execution_count": 48,
      "outputs": [
        {
          "output_type": "execute_result",
          "data": {
            "text/plain": [
              "(4514, 2)"
            ]
          },
          "metadata": {},
          "execution_count": 48
        }
      ]
    },
    {
      "cell_type": "code",
      "source": [
        "news_data = news_data.head(100)"
      ],
      "metadata": {
        "id": "uJe6sHDHnfoF"
      },
      "execution_count": 49,
      "outputs": []
    },
    {
      "cell_type": "code",
      "source": [
        "print(news_data.shape)"
      ],
      "metadata": {
        "id": "c6nNhiPJniTM",
        "colab": {
          "base_uri": "https://localhost:8080/"
        },
        "outputId": "a7bfa805-f6c4-494c-a4a1-9a742fe1a276"
      },
      "execution_count": 50,
      "outputs": [
        {
          "output_type": "stream",
          "name": "stdout",
          "text": [
            "(100, 2)\n"
          ]
        }
      ]
    },
    {
      "cell_type": "code",
      "source": [
        "news_data.rename(columns={'ctext': 'complete_text'}, inplace=True)\n",
        "news_data.rename(columns={'text': 'summary'}, inplace=True)"
      ],
      "metadata": {
        "id": "pkizYw2lnkbf"
      },
      "execution_count": 51,
      "outputs": []
    },
    {
      "cell_type": "code",
      "source": [
        "news_data.head()"
      ],
      "metadata": {
        "id": "l7sNpSYAnmjh",
        "colab": {
          "base_uri": "https://localhost:8080/",
          "height": 206
        },
        "outputId": "274f2df8-86d4-4530-b084-08ce43f87014"
      },
      "execution_count": 52,
      "outputs": [
        {
          "output_type": "execute_result",
          "data": {
            "text/plain": [
              "                                             summary  \\\n",
              "0  The Administration of Union Territory Daman an...   \n",
              "1  Malaika Arora slammed an Instagram user who tr...   \n",
              "2  The Indira Gandhi Institute of Medical Science...   \n",
              "3  Lashkar-e-Taiba's Kashmir commander Abu Dujana...   \n",
              "4  Hotels in Maharashtra will train their staff t...   \n",
              "\n",
              "                                       complete_text  \n",
              "0  The Daman and Diu administration on Wednesday ...  \n",
              "1  From her special numbers to TV?appearances, Bo...  \n",
              "2  The Indira Gandhi Institute of Medical Science...  \n",
              "3  Lashkar-e-Taiba's Kashmir commander Abu Dujana...  \n",
              "4  Hotels in Mumbai and other Indian cities are t...  "
            ],
            "text/html": [
              "\n",
              "  <div id=\"df-6b6db05f-c239-474e-bd9c-95d07d2bb7e4\" class=\"colab-df-container\">\n",
              "    <div>\n",
              "<style scoped>\n",
              "    .dataframe tbody tr th:only-of-type {\n",
              "        vertical-align: middle;\n",
              "    }\n",
              "\n",
              "    .dataframe tbody tr th {\n",
              "        vertical-align: top;\n",
              "    }\n",
              "\n",
              "    .dataframe thead th {\n",
              "        text-align: right;\n",
              "    }\n",
              "</style>\n",
              "<table border=\"1\" class=\"dataframe\">\n",
              "  <thead>\n",
              "    <tr style=\"text-align: right;\">\n",
              "      <th></th>\n",
              "      <th>summary</th>\n",
              "      <th>complete_text</th>\n",
              "    </tr>\n",
              "  </thead>\n",
              "  <tbody>\n",
              "    <tr>\n",
              "      <th>0</th>\n",
              "      <td>The Administration of Union Territory Daman an...</td>\n",
              "      <td>The Daman and Diu administration on Wednesday ...</td>\n",
              "    </tr>\n",
              "    <tr>\n",
              "      <th>1</th>\n",
              "      <td>Malaika Arora slammed an Instagram user who tr...</td>\n",
              "      <td>From her special numbers to TV?appearances, Bo...</td>\n",
              "    </tr>\n",
              "    <tr>\n",
              "      <th>2</th>\n",
              "      <td>The Indira Gandhi Institute of Medical Science...</td>\n",
              "      <td>The Indira Gandhi Institute of Medical Science...</td>\n",
              "    </tr>\n",
              "    <tr>\n",
              "      <th>3</th>\n",
              "      <td>Lashkar-e-Taiba's Kashmir commander Abu Dujana...</td>\n",
              "      <td>Lashkar-e-Taiba's Kashmir commander Abu Dujana...</td>\n",
              "    </tr>\n",
              "    <tr>\n",
              "      <th>4</th>\n",
              "      <td>Hotels in Maharashtra will train their staff t...</td>\n",
              "      <td>Hotels in Mumbai and other Indian cities are t...</td>\n",
              "    </tr>\n",
              "  </tbody>\n",
              "</table>\n",
              "</div>\n",
              "    <div class=\"colab-df-buttons\">\n",
              "\n",
              "  <div class=\"colab-df-container\">\n",
              "    <button class=\"colab-df-convert\" onclick=\"convertToInteractive('df-6b6db05f-c239-474e-bd9c-95d07d2bb7e4')\"\n",
              "            title=\"Convert this dataframe to an interactive table.\"\n",
              "            style=\"display:none;\">\n",
              "\n",
              "  <svg xmlns=\"http://www.w3.org/2000/svg\" height=\"24px\" viewBox=\"0 -960 960 960\">\n",
              "    <path d=\"M120-120v-720h720v720H120Zm60-500h600v-160H180v160Zm220 220h160v-160H400v160Zm0 220h160v-160H400v160ZM180-400h160v-160H180v160Zm440 0h160v-160H620v160ZM180-180h160v-160H180v160Zm440 0h160v-160H620v160Z\"/>\n",
              "  </svg>\n",
              "    </button>\n",
              "\n",
              "  <style>\n",
              "    .colab-df-container {\n",
              "      display:flex;\n",
              "      gap: 12px;\n",
              "    }\n",
              "\n",
              "    .colab-df-convert {\n",
              "      background-color: #E8F0FE;\n",
              "      border: none;\n",
              "      border-radius: 50%;\n",
              "      cursor: pointer;\n",
              "      display: none;\n",
              "      fill: #1967D2;\n",
              "      height: 32px;\n",
              "      padding: 0 0 0 0;\n",
              "      width: 32px;\n",
              "    }\n",
              "\n",
              "    .colab-df-convert:hover {\n",
              "      background-color: #E2EBFA;\n",
              "      box-shadow: 0px 1px 2px rgba(60, 64, 67, 0.3), 0px 1px 3px 1px rgba(60, 64, 67, 0.15);\n",
              "      fill: #174EA6;\n",
              "    }\n",
              "\n",
              "    .colab-df-buttons div {\n",
              "      margin-bottom: 4px;\n",
              "    }\n",
              "\n",
              "    [theme=dark] .colab-df-convert {\n",
              "      background-color: #3B4455;\n",
              "      fill: #D2E3FC;\n",
              "    }\n",
              "\n",
              "    [theme=dark] .colab-df-convert:hover {\n",
              "      background-color: #434B5C;\n",
              "      box-shadow: 0px 1px 3px 1px rgba(0, 0, 0, 0.15);\n",
              "      filter: drop-shadow(0px 1px 2px rgba(0, 0, 0, 0.3));\n",
              "      fill: #FFFFFF;\n",
              "    }\n",
              "  </style>\n",
              "\n",
              "    <script>\n",
              "      const buttonEl =\n",
              "        document.querySelector('#df-6b6db05f-c239-474e-bd9c-95d07d2bb7e4 button.colab-df-convert');\n",
              "      buttonEl.style.display =\n",
              "        google.colab.kernel.accessAllowed ? 'block' : 'none';\n",
              "\n",
              "      async function convertToInteractive(key) {\n",
              "        const element = document.querySelector('#df-6b6db05f-c239-474e-bd9c-95d07d2bb7e4');\n",
              "        const dataTable =\n",
              "          await google.colab.kernel.invokeFunction('convertToInteractive',\n",
              "                                                    [key], {});\n",
              "        if (!dataTable) return;\n",
              "\n",
              "        const docLinkHtml = 'Like what you see? Visit the ' +\n",
              "          '<a target=\"_blank\" href=https://colab.research.google.com/notebooks/data_table.ipynb>data table notebook</a>'\n",
              "          + ' to learn more about interactive tables.';\n",
              "        element.innerHTML = '';\n",
              "        dataTable['output_type'] = 'display_data';\n",
              "        await google.colab.output.renderOutput(dataTable, element);\n",
              "        const docLink = document.createElement('div');\n",
              "        docLink.innerHTML = docLinkHtml;\n",
              "        element.appendChild(docLink);\n",
              "      }\n",
              "    </script>\n",
              "  </div>\n",
              "\n",
              "\n",
              "<div id=\"df-012247ba-019f-442b-bee8-b04b8f9cdafc\">\n",
              "  <button class=\"colab-df-quickchart\" onclick=\"quickchart('df-012247ba-019f-442b-bee8-b04b8f9cdafc')\"\n",
              "            title=\"Suggest charts\"\n",
              "            style=\"display:none;\">\n",
              "\n",
              "<svg xmlns=\"http://www.w3.org/2000/svg\" height=\"24px\"viewBox=\"0 0 24 24\"\n",
              "     width=\"24px\">\n",
              "    <g>\n",
              "        <path d=\"M19 3H5c-1.1 0-2 .9-2 2v14c0 1.1.9 2 2 2h14c1.1 0 2-.9 2-2V5c0-1.1-.9-2-2-2zM9 17H7v-7h2v7zm4 0h-2V7h2v10zm4 0h-2v-4h2v4z\"/>\n",
              "    </g>\n",
              "</svg>\n",
              "  </button>\n",
              "\n",
              "<style>\n",
              "  .colab-df-quickchart {\n",
              "      --bg-color: #E8F0FE;\n",
              "      --fill-color: #1967D2;\n",
              "      --hover-bg-color: #E2EBFA;\n",
              "      --hover-fill-color: #174EA6;\n",
              "      --disabled-fill-color: #AAA;\n",
              "      --disabled-bg-color: #DDD;\n",
              "  }\n",
              "\n",
              "  [theme=dark] .colab-df-quickchart {\n",
              "      --bg-color: #3B4455;\n",
              "      --fill-color: #D2E3FC;\n",
              "      --hover-bg-color: #434B5C;\n",
              "      --hover-fill-color: #FFFFFF;\n",
              "      --disabled-bg-color: #3B4455;\n",
              "      --disabled-fill-color: #666;\n",
              "  }\n",
              "\n",
              "  .colab-df-quickchart {\n",
              "    background-color: var(--bg-color);\n",
              "    border: none;\n",
              "    border-radius: 50%;\n",
              "    cursor: pointer;\n",
              "    display: none;\n",
              "    fill: var(--fill-color);\n",
              "    height: 32px;\n",
              "    padding: 0;\n",
              "    width: 32px;\n",
              "  }\n",
              "\n",
              "  .colab-df-quickchart:hover {\n",
              "    background-color: var(--hover-bg-color);\n",
              "    box-shadow: 0 1px 2px rgba(60, 64, 67, 0.3), 0 1px 3px 1px rgba(60, 64, 67, 0.15);\n",
              "    fill: var(--button-hover-fill-color);\n",
              "  }\n",
              "\n",
              "  .colab-df-quickchart-complete:disabled,\n",
              "  .colab-df-quickchart-complete:disabled:hover {\n",
              "    background-color: var(--disabled-bg-color);\n",
              "    fill: var(--disabled-fill-color);\n",
              "    box-shadow: none;\n",
              "  }\n",
              "\n",
              "  .colab-df-spinner {\n",
              "    border: 2px solid var(--fill-color);\n",
              "    border-color: transparent;\n",
              "    border-bottom-color: var(--fill-color);\n",
              "    animation:\n",
              "      spin 1s steps(1) infinite;\n",
              "  }\n",
              "\n",
              "  @keyframes spin {\n",
              "    0% {\n",
              "      border-color: transparent;\n",
              "      border-bottom-color: var(--fill-color);\n",
              "      border-left-color: var(--fill-color);\n",
              "    }\n",
              "    20% {\n",
              "      border-color: transparent;\n",
              "      border-left-color: var(--fill-color);\n",
              "      border-top-color: var(--fill-color);\n",
              "    }\n",
              "    30% {\n",
              "      border-color: transparent;\n",
              "      border-left-color: var(--fill-color);\n",
              "      border-top-color: var(--fill-color);\n",
              "      border-right-color: var(--fill-color);\n",
              "    }\n",
              "    40% {\n",
              "      border-color: transparent;\n",
              "      border-right-color: var(--fill-color);\n",
              "      border-top-color: var(--fill-color);\n",
              "    }\n",
              "    60% {\n",
              "      border-color: transparent;\n",
              "      border-right-color: var(--fill-color);\n",
              "    }\n",
              "    80% {\n",
              "      border-color: transparent;\n",
              "      border-right-color: var(--fill-color);\n",
              "      border-bottom-color: var(--fill-color);\n",
              "    }\n",
              "    90% {\n",
              "      border-color: transparent;\n",
              "      border-bottom-color: var(--fill-color);\n",
              "    }\n",
              "  }\n",
              "</style>\n",
              "\n",
              "  <script>\n",
              "    async function quickchart(key) {\n",
              "      const quickchartButtonEl =\n",
              "        document.querySelector('#' + key + ' button');\n",
              "      quickchartButtonEl.disabled = true;  // To prevent multiple clicks.\n",
              "      quickchartButtonEl.classList.add('colab-df-spinner');\n",
              "      try {\n",
              "        const charts = await google.colab.kernel.invokeFunction(\n",
              "            'suggestCharts', [key], {});\n",
              "      } catch (error) {\n",
              "        console.error('Error during call to suggestCharts:', error);\n",
              "      }\n",
              "      quickchartButtonEl.classList.remove('colab-df-spinner');\n",
              "      quickchartButtonEl.classList.add('colab-df-quickchart-complete');\n",
              "    }\n",
              "    (() => {\n",
              "      let quickchartButtonEl =\n",
              "        document.querySelector('#df-012247ba-019f-442b-bee8-b04b8f9cdafc button');\n",
              "      quickchartButtonEl.style.display =\n",
              "        google.colab.kernel.accessAllowed ? 'block' : 'none';\n",
              "    })();\n",
              "  </script>\n",
              "</div>\n",
              "\n",
              "    </div>\n",
              "  </div>\n"
            ],
            "application/vnd.google.colaboratory.intrinsic+json": {
              "type": "dataframe",
              "variable_name": "news_data",
              "summary": "{\n  \"name\": \"news_data\",\n  \"rows\": 100,\n  \"fields\": [\n    {\n      \"column\": \"summary\",\n      \"properties\": {\n        \"dtype\": \"string\",\n        \"num_unique_values\": 100,\n        \"samples\": [\n          \"Lakshmibai College will be the first college in the University of Delhi to start a cr\\u00e8che facility for the children of its teaching and non-teaching staff in August. College principal said the teachers would be able to focus more on their work without worrying about the children. The cr\\u00e8che will consist of two rooms, a pantry, and a play area.\",\n          \"UK tobacco company British American Tobacco (BAT) is being investigated by the Serious Fraud Office (SFO) over allegations about involvement in bribery and corruption in Africa. BAT has denied allegations of a whistleblower who handed over multiple documents to SFO. However, BAT has said it is cooperating with UK authorities as campaigners are now urging US government to act.\",\n          \"Priyanka Chopra has shared a picture with singer Bryan Adams on Instagram which she captioned, \\\"Was so good to see you again.\\\" Priyanka and Bryan came together to support the organisation 'Hear The World Foundation', which works for people with hearing disabilities. Adams is known for songs like 'Summer of 69' and '(Everything I Do) I Do It for You'.\"\n        ],\n        \"semantic_type\": \"\",\n        \"description\": \"\"\n      }\n    },\n    {\n      \"column\": \"complete_text\",\n      \"properties\": {\n        \"dtype\": \"string\",\n        \"num_unique_values\": 99,\n        \"samples\": [\n          \"In a ridiculous step, the Indira Gandhi Institute of Medical Sciences (IGIMS) in Patna has asked its employees to declare whether they are virgin. The marriage declaration form which has come to light is applicable for hospital employees and freshly recruited doctors and nursing staffs. The form also asks male employees to provide details if they have more than one wife.Women employees apart from declaring status regarding their virginity have also been asked to provide details on whether she is married to a person who has no other wife living or another wife living. Speaking to India Today, the Deputy Medical Superintendent, Dr Manish Mandal said that the marriage declaration form with the contentious questions have been in practice ever since the institute was established in 1984.\\\"Everyone has to fill this form which is part of Central Services Rules and this form is similar to what AIIMS in Delhi uses. If the Centre or AIIMS changes the format of the form in the future, we will also change it. This is not a new form and has been in practice since 1984 when IGIMS was established\\\", said Mandal.\\u00a0 Elaborating on the need to extract personal details like one's virginity, Dr Mandal said that the questions have been asked in order to avert any kind of wrong doing. \\\"In the Central Services Rules there is a provision that when a person joins the service and later on if she dies because of any eventuality, there may be a claimant or boy friend who may come to seek job in place of the victim\\\", said Dr Mandal . However, Dr Mandal admitted that the use of word virginity was incorrect.\\\"Essentially what is being asked in the form is whether a person is married or unmarried?\\u00a0 Personally I feel the word used should have been unmarried instead of virgin. That would have been sober but what is there in the rules have to be followed,\\\" said Dr Mandal.\",\n          \"A Republican senator said Tuesday that US President Donald Trump has told him he would go to war to destroy North Korea rather than allow it to develop a long-range nuclear-armed missile.Influential lawmaker Lindsey Graham, a foreign policy hawk, told NBC?s Today Show: ?There is a military option: To destroy North Korea?s programme and North Korea itself.?Last week, North Korean leader Kim Jong-Un boasted that his country could now strike any target in the United States after carrying out its latest intercontinental ballistic missile test.World powers have been trying to stifle Pyongyang?s weapons programme through United Nations-backed sanctions, but have failed to daunt the regime and Washington is growing frustrated.Graham said if diplomacy, and in particular pressure from the North?s neighbour China, fails to halt the programme then the United States will have no choice but to take devastating military action.?They?ve kicked the can down the road for 20 years. There will be a war with North Korea over the missile program if they continue to try to hit America with an ICBM,? he said, describing his discussions with Trump.?He?s told me that. I believe him. If I were China, I would believe him, too, and do something about it. You can stop North Korea, militarily or diplomatically.?I prefer the diplomatic approach. But they will not be allowed to have a missile to hit America with a nuclear weapon on top.? \",\n          \"Facing pressure from President Donald Trump to cut the cost of new Air Force One aircraft, the US Air Force is negotiating with Boeing to purchase two 747-8 jetliners that were built for a Russian airline that went bankrupt before they were delivered.?We?re working through the final stages of coordination to purchase two commercial 747-8 aircraft and expect to award a contract soon,? said Air Force spokeswoman Ann Stefanek, who declined to elaborate on the details.National security publication Defense One, which first reported the negotiations, said the Air Force was believed to be getting a good deal on the aircraft, which sell for about $386 million on average.The two aircraft were initially ordered four years ago by Transaero, a Russian airline that went bankrupt in 2015, a person familiar with the talks told Reuters.Boeing built two 747-8s out of an order of four. But the airline never took ownership of them, and the planes have been stored in the Mojave Desert, where the dry, hot climate slows corrosion, Defense One said.Trump rattled Boeing in December before taking office by saying in a Twitter message: Boeing is building a brand new 747 Air Force One for future presidents, but costs are out of control, more than $4 billion. Cancel order!? Donald J. Trump (@realDonaldTrump) December 6, 2016Boeing Chief Executive Officer Dennis Muilenburg called Trump and told him the cost could be reduced if the Air Force changed its requirements, sources familiar with the conversation said at the time.White House officials in December were unclear where Trump obtained the $4 billion figure. The Air Force has estimated it would spend $2.87 billion through 2021 for development of a new presidential aircraft. The cost of refitting the commercial 747-8s with the enhanced electronics and security systems required for Air Force One were unclear.Boeing had said it expected to add the Air Force One jets to its backlog, which currently numbers 20 planes - five passenger models and 15 freighters.The redeployment to the Air Force of jets already built for another customer would effectively reduce Boeing?s future 747 production plans by two aircraft. But it would provide a home for two airframes that have been built but remain unsold.The Air Force operates two military versions of the Boeing 747-200B aircraft that serve as Air Force One when the president is aboard. Both are nearing the end of their planned 30-year life. \"\n        ],\n        \"semantic_type\": \"\",\n        \"description\": \"\"\n      }\n    }\n  ]\n}"
            }
          },
          "metadata": {},
          "execution_count": 52
        }
      ]
    },
    {
      "cell_type": "code",
      "source": [
        "model = T5ForConditionalGeneration.from_pretrained('t5-base')\n",
        "tokenizer = T5Tokenizer.from_pretrained('t5-base')\n",
        "device = torch.device('cpu')"
      ],
      "metadata": {
        "id": "fJmhzfb9nrg8"
      },
      "execution_count": 53,
      "outputs": []
    },
    {
      "cell_type": "code",
      "source": [
        "text = news_data['complete_text'][0]\n",
        "actual_summary =news_data['summary'][0]\n",
        "print('Text:',text,'\\n')\n",
        "print('Summary:',actual_summary)"
      ],
      "metadata": {
        "id": "DaJFsHPrntyu",
        "colab": {
          "base_uri": "https://localhost:8080/"
        },
        "outputId": "e5c96f7d-1c03-4eb6-8f4a-88558185cbc5"
      },
      "execution_count": 54,
      "outputs": [
        {
          "output_type": "stream",
          "name": "stdout",
          "text": [
            "Text: The Daman and Diu administration on Wednesday withdrew a circular that asked women staff to tie rakhis on male colleagues after the order triggered a backlash from employees and was ripped apart on social media.The union territory?s administration was forced to retreat within 24 hours of issuing the circular that made it compulsory for its staff to celebrate Rakshabandhan at workplace.?It has been decided to celebrate the festival of Rakshabandhan on August 7. In this connection, all offices/ departments shall remain open and celebrate the festival collectively at a suitable time wherein all the lady staff shall tie rakhis to their colleagues,? the order, issued on August 1 by Gurpreet Singh, deputy secretary (personnel), had said.To ensure that no one skipped office, an attendance report was to be sent to the government the next evening.The two notifications ? one mandating the celebration of Rakshabandhan (left) and the other withdrawing the mandate (right) ? were issued by the Daman and Diu administration a day apart. The circular was withdrawn through a one-line order issued late in the evening by the UT?s department of personnel and administrative reforms.?The circular is ridiculous. There are sensitivities involved. How can the government dictate who I should tie rakhi to? We should maintain the professionalism of a workplace? an official told Hindustan Times earlier in the day. She refused to be identified.The notice was issued on Daman and Diu administrator and former Gujarat home minister Praful Kodabhai Patel?s direction, sources said.Rakshabandhan, a celebration of the bond between brothers and sisters, is one of several Hindu festivities and rituals that are no longer confined of private, family affairs but have become tools to push politic al ideologies.In 2014, the year BJP stormed to power at the Centre, Rashtriya Swayamsevak Sangh (RSS) chief Mohan Bhagwat said the festival had ?national significance? and should be celebrated widely ?to protect Hindu culture and live by the values enshrined in it?. The RSS is the ideological parent of the ruling BJP.Last year, women ministers in the Modi government went to the border areas to celebrate the festival with soldiers. A year before, all cabinet ministers were asked to go to their constituencies for the festival. \n",
            "\n",
            "Summary: The Administration of Union Territory Daman and Diu has revoked its order that made it compulsory for women to tie rakhis to their male colleagues on the occasion of Rakshabandhan on August 7. The administration was forced to withdraw the decision within 24 hours of issuing the circular after it received flak from employees and was slammed on social media.\n"
          ]
        }
      ]
    },
    {
      "cell_type": "code",
      "source": [
        "def preprocess_text(text):\n",
        "    # Replace the special characters with the correct quotation marks\n",
        "    text = text.replace(\"?\", '\"').replace(\"?\", \"'\")\n",
        "\n",
        "    # Remove the extra spaces and newlines\n",
        "    text = text.strip().replace(\"\\n\", \" \")\n",
        "\n",
        "    # Add a period at the end of the text if it is missing\n",
        "    if not text.endswith(\".\"):\n",
        "        text = text + \".\"\n",
        "\n",
        "    # Prepend the text with the prefix \"summarize: \" to indicate the task to the model\n",
        "    t5_prepared_Text = \"summarize: \" + text\n",
        "\n",
        "    return t5_prepared_Text"
      ],
      "metadata": {
        "id": "lhIihL1bnwY6"
      },
      "execution_count": 55,
      "outputs": []
    },
    {
      "cell_type": "code",
      "source": [
        "t5_prepared_Text = preprocess_text(text)\n",
        "\n",
        "print (\"\\n Preprocessed Text: \\n\", t5_prepared_Text)\n",
        "\n",
        "tokenized_text = tokenizer.encode(t5_prepared_Text, return_tensors=\"pt\").to(device)\n",
        "\n",
        "summary_ids = model.generate(tokenized_text,\n",
        "                                    num_beams=4,\n",
        "                                    no_repeat_ngram_size=3,\n",
        "                                    min_length=30,\n",
        "                                    max_length=200,\n",
        "                                    length_penalty=2.0,\n",
        "                                    temperature=0.8)\n",
        "\n",
        "\n",
        "generated_summary = tokenizer.decode(summary_ids[0], skip_special_tokens=True)\n",
        "\n",
        "print (\"\\n\\n Generated Summary: \\n\",generated_summary)\n",
        "\n",
        "print('\\n\\n Actual Summary: \\n',actual_summary)"
      ],
      "metadata": {
        "id": "Aq7SMXFrn0KF",
        "colab": {
          "base_uri": "https://localhost:8080/"
        },
        "outputId": "a0800d8f-a5e4-41ec-c9a1-22ba6b839656"
      },
      "execution_count": 56,
      "outputs": [
        {
          "output_type": "stream",
          "name": "stdout",
          "text": [
            "\n",
            " Preprocessed Text: \n",
            " summarize: The Daman and Diu administration on Wednesday withdrew a circular that asked women staff to tie rakhis on male colleagues after the order triggered a backlash from employees and was ripped apart on social media.The union territory\"s administration was forced to retreat within 24 hours of issuing the circular that made it compulsory for its staff to celebrate Rakshabandhan at workplace.\"It has been decided to celebrate the festival of Rakshabandhan on August 7. In this connection, all offices/ departments shall remain open and celebrate the festival collectively at a suitable time wherein all the lady staff shall tie rakhis to their colleagues,\" the order, issued on August 1 by Gurpreet Singh, deputy secretary (personnel), had said.To ensure that no one skipped office, an attendance report was to be sent to the government the next evening.The two notifications \" one mandating the celebration of Rakshabandhan (left) and the other withdrawing the mandate (right) \" were issued by the Daman and Diu administration a day apart. The circular was withdrawn through a one-line order issued late in the evening by the UT\"s department of personnel and administrative reforms.\"The circular is ridiculous. There are sensitivities involved. How can the government dictate who I should tie rakhi to\" We should maintain the professionalism of a workplace\" an official told Hindustan Times earlier in the day. She refused to be identified.The notice was issued on Daman and Diu administrator and former Gujarat home minister Praful Kodabhai Patel\"s direction, sources said.Rakshabandhan, a celebration of the bond between brothers and sisters, is one of several Hindu festivities and rituals that are no longer confined of private, family affairs but have become tools to push politic al ideologies.In 2014, the year BJP stormed to power at the Centre, Rashtriya Swayamsevak Sangh (RSS) chief Mohan Bhagwat said the festival had \"national significance\" and should be celebrated widely \"to protect Hindu culture and live by the values enshrined in it\". The RSS is the ideological parent of the ruling BJP.Last year, women ministers in the Modi government went to the border areas to celebrate the festival with soldiers. A year before, all cabinet ministers were asked to go to their constituencies for the festival.\n"
          ]
        },
        {
          "output_type": "stream",
          "name": "stderr",
          "text": [
            "/usr/local/lib/python3.10/dist-packages/transformers/generation/configuration_utils.py:628: UserWarning: `do_sample` is set to `False`. However, `temperature` is set to `0.8` -- this flag is only used in sample-based generation modes. You should set `do_sample=True` or unset `temperature`.\n",
            "  warnings.warn(\n"
          ]
        },
        {
          "output_type": "stream",
          "name": "stdout",
          "text": [
            "\n",
            "\n",
            " Generated Summary: \n",
            " a circular that asked women staff to tie rakhis on male colleagues triggered a backlash . the union territory\"s administration was forced to retreat within 24 hours of issuing the circular . it was withdrawn through a one-line order issued late in the evening by the UT's department of personnel and administrative reforms .\n",
            "\n",
            "\n",
            " Actual Summary: \n",
            " The Administration of Union Territory Daman and Diu has revoked its order that made it compulsory for women to tie rakhis to their male colleagues on the occasion of Rakshabandhan on August 7. The administration was forced to withdraw the decision within 24 hours of issuing the circular after it received flak from employees and was slammed on social media.\n"
          ]
        }
      ]
    },
    {
      "cell_type": "code",
      "source": [
        "rouge = Rouge()\n",
        "scores = rouge.get_scores(generated_summary, actual_summary)\n",
        "print(\"ROUGE Score:\")\n",
        "print(\"Precision: {:.3f}\".format(scores[0]['rouge-1']['p']))\n",
        "print(\"Recall: {:.3f}\".format(scores[0]['rouge-1']['r']))\n",
        "print(\"F1-Score: {:.3f}\".format(scores[0]['rouge-1']['f']))\n",
        "print(scores)"
      ],
      "metadata": {
        "id": "Zh5dk_AUn4Ir",
        "colab": {
          "base_uri": "https://localhost:8080/"
        },
        "outputId": "776a189d-ba5a-4dd9-ee7a-8bce0f4f3a04"
      },
      "execution_count": 57,
      "outputs": [
        {
          "output_type": "stream",
          "name": "stdout",
          "text": [
            "ROUGE Score:\n",
            "Precision: 0.500\n",
            "Recall: 0.438\n",
            "F1-Score: 0.467\n",
            "[{'rouge-1': {'r': 0.4375, 'p': 0.5, 'f': 0.46666666168888893}, 'rouge-2': {'r': 0.2033898305084746, 'p': 0.24, 'f': 0.22018348127262027}, 'rouge-l': {'r': 0.4166666666666667, 'p': 0.47619047619047616, 'f': 0.44444443946666673}}]\n"
          ]
        }
      ]
    },
    {
      "cell_type": "code",
      "source": [
        "from nltk.translate.bleu_score import sentence_bleu\n",
        "\n",
        "def summary_to_sentences(summary):\n",
        "    # Split the summary into sentences using the '.' character as a separator\n",
        "    sentences = summary.split('.')\n",
        "\n",
        "    # Convert each sentence into a list of words\n",
        "    sentence_lists = [sentence.split() for sentence in sentences]\n",
        "\n",
        "    return sentence_lists\n",
        "\n",
        "def paragraph_to_wordlist(paragraph):\n",
        "    # Split the paragraph into words using whitespace as a separator\n",
        "    words = paragraph.split()\n",
        "    return words\n",
        "\n",
        "reference_paragraph = actual_summary\n",
        "reference_summary = summary_to_sentences(reference_paragraph)\n",
        "\n",
        "predicted_paragraph = generated_summary\n",
        "predicted_summary = paragraph_to_wordlist(predicted_paragraph)\n",
        "\n",
        "score = sentence_bleu(reference_summary, predicted_summary)\n",
        "print(score)"
      ],
      "metadata": {
        "id": "2siq5FqMn7fM",
        "colab": {
          "base_uri": "https://localhost:8080/"
        },
        "outputId": "172bc0c7-e3c1-49d7-a2e6-785e0e51d62b"
      },
      "execution_count": 58,
      "outputs": [
        {
          "output_type": "stream",
          "name": "stdout",
          "text": [
            "0.19940430225921654\n"
          ]
        }
      ]
    },
    {
      "cell_type": "code",
      "source": [
        "print(\"BLEU Score: {:.3f}\".format(score))"
      ],
      "metadata": {
        "id": "ST_8Y4prn-lX",
        "colab": {
          "base_uri": "https://localhost:8080/"
        },
        "outputId": "78a5fd63-dea5-4920-bee3-6689fb377c55"
      },
      "execution_count": 59,
      "outputs": [
        {
          "output_type": "stream",
          "name": "stdout",
          "text": [
            "BLEU Score: 0.199\n"
          ]
        }
      ]
    },
    {
      "cell_type": "code",
      "source": [
        "def summerize(text):\n",
        "    t5_prepared_Text = preprocess_text(text)\n",
        "    tokenized_text = tokenizer.encode(t5_prepared_Text, return_tensors=\"pt\").to(device)\n",
        "    summary_ids = model.generate(tokenized_text,\n",
        "                                    num_beams=4,\n",
        "                                    no_repeat_ngram_size=3,\n",
        "                                    min_length=30,\n",
        "                                    max_length=200,\n",
        "                                    length_penalty=2.0,\n",
        "                                    temperature=0.8)\n",
        "    output = tokenizer.decode(summary_ids[0], skip_special_tokens=True)\n",
        "    return output"
      ],
      "metadata": {
        "id": "DdiCb1MkoCNS"
      },
      "execution_count": 60,
      "outputs": []
    },
    {
      "cell_type": "code",
      "source": [
        "Actual_summaries = news_data[\"summary\"].tolist()\n",
        "Generated_summaries = [summerize(text) for text in news_data[\"complete_text\"]]"
      ],
      "metadata": {
        "id": "U1u7-yJAoEKL"
      },
      "execution_count": 61,
      "outputs": []
    },
    {
      "cell_type": "code",
      "source": [],
      "metadata": {
        "id": "CubELU0nt4CB"
      },
      "execution_count": 61,
      "outputs": []
    },
    {
      "cell_type": "code",
      "source": [
        "rouge = Rouge()\n",
        "scores = rouge.get_scores(Actual_summaries,Generated_summaries,avg=True)\n",
        "print(\"ROUGE Score:\")\n",
        "# print(\"Precision: {:.3f}\".format(scores['rouge-1']['p']))\n",
        "# print(\"Recall: {:.3f}\".format(scores['rouge-1']['r']))\n",
        "# print(\"F1-Score: {:.3f}\".format(scores['rouge-1']['f']))\n",
        "print(scores)"
      ],
      "metadata": {
        "id": "jr-rCT2goGOb",
        "colab": {
          "base_uri": "https://localhost:8080/"
        },
        "outputId": "787da0f5-1350-49ab-b243-fbc7f36f5b59"
      },
      "execution_count": 62,
      "outputs": [
        {
          "output_type": "stream",
          "name": "stdout",
          "text": [
            "ROUGE Score:\n",
            "{'rouge-1': {'r': 0.4023489159447536, 'p': 0.30983725553544966, 'f': 0.3464975271400485}, 'rouge-2': {'r': 0.16250045668822144, 'p': 0.1252346204203476, 'f': 0.13961994470915232}, 'rouge-l': {'r': 0.3678262762391965, 'p': 0.2834151557624287, 'f': 0.3168858700920147}}\n"
          ]
        }
      ]
    },
    {
      "cell_type": "code",
      "source": [
        "import matplotlib.pyplot as plt\n",
        "\n",
        "# ROUGE scores\n",
        "precision = scores['rouge-1']['p']\n",
        "recall = scores['rouge-1']['r']\n",
        "f1_score = scores['rouge-1']['f']\n",
        "\n",
        "# Bar chart\n",
        "labels = ['Precision', 'Recall', 'F1-Score']\n",
        "scores_values = [precision, recall, f1_score]\n",
        "\n",
        "plt.bar(labels, scores_values, color=['blue', 'green', 'orange'])\n",
        "plt.title('ROUGE Scores')\n",
        "plt.ylabel('Score')\n",
        "plt.show()"
      ],
      "metadata": {
        "id": "1FvsYe51oMRr",
        "colab": {
          "base_uri": "https://localhost:8080/",
          "height": 452
        },
        "outputId": "461d5d29-e5b2-4669-f27e-81074dd81536"
      },
      "execution_count": 63,
      "outputs": [
        {
          "output_type": "display_data",
          "data": {
            "text/plain": [
              "<Figure size 640x480 with 1 Axes>"
            ],
            "image/png": "[encoded data removed]"
          },
          "metadata": {}
        }
      ]
    },
    {
      "cell_type": "code",
      "source": [
        "import pandas as pd\n",
        "import torch\n",
        "from transformers import T5Tokenizer, T5ForConditionalGeneration\n",
        "from rouge import Rouge\n",
        "import matplotlib.pyplot as plt\n",
        "\n",
        "# Load your dataset\n",
        "news_data = pd.read_csv('news_summary.csv', encoding='latin')\n",
        "news_data = news_data[['text', 'ctext']]\n",
        "news_data = news_data.head(100)\n",
        "\n",
        "# Initialize the T5 model and tokenizer\n",
        "model = T5ForConditionalGeneration.from_pretrained('t5-base')\n",
        "tokenizer = T5Tokenizer.from_pretrained('t5-base')\n",
        "device = torch.device('cpu')\n",
        "\n",
        "# Initialize Rouge\n",
        "rouge = Rouge()\n",
        "\n",
        "# Lists to store ROUGE scores\n",
        "rouge_1_scores = []\n",
        "rouge_2_scores = []\n",
        "rouge_l_scores = []\n",
        "\n",
        "# Loop over each instance in the dataset\n",
        "for i in range(len(news_data)):\n",
        "    text = news_data['ctext'][i]\n",
        "    actual_summary = news_data['text'][i]\n",
        "\n",
        "    # Preprocess the text\n",
        "    t5_prepared_Text = \"summarize: \" + text\n",
        "    tokenized_text = tokenizer.encode(t5_prepared_Text, return_tensors=\"pt\").to(device)\n",
        "\n",
        "    # Generate summary\n",
        "    summary_ids = model.generate(tokenized_text, num_beams=4, no_repeat_ngram_size=3, min_length=30, max_length=200,\n",
        "                                length_penalty=2.0, temperature=0.8)\n",
        "    generated_summary = tokenizer.decode(summary_ids[0], skip_special_tokens=True)\n",
        "\n",
        "    # Calculate ROUGE scores\n",
        "    scores = rouge.get_scores(generated_summary, actual_summary)\n",
        "\n",
        "    # Store ROUGE scores\n",
        "    rouge_1_scores.append(scores[0]['rouge-1']['f'])\n",
        "    rouge_2_scores.append(scores[0]['rouge-2']['f'])\n",
        "    rouge_l_scores.append(scores[0]['rouge-l']['f'])\n",
        "\n",
        "# Plotting\n",
        "plt.plot(rouge_1_scores, label='ROUGE-1')\n",
        "plt.plot(rouge_2_scores, label='ROUGE-2')\n",
        "plt.plot(rouge_l_scores, label='ROUGE-L')\n",
        "\n",
        "# Customize the plot as needed\n",
        "plt.xlabel('Instance')\n",
        "plt.ylabel('ROUGE Score')\n",
        "plt.title('ROUGE Scores for Text Summarization')\n",
        "plt.legend()\n",
        "plt.show()"
      ],
      "metadata": {
        "id": "BSuWWdkaoPIk",
        "colab": {
          "base_uri": "https://localhost:8080/",
          "height": 528
        },
        "outputId": "c39830d6-5032-4c3e-b6dc-aca47c00ddd3"
      },
      "execution_count": 64,
      "outputs": [
        {
          "metadata": {
            "tags": null
          },
          "name": "stderr",
          "output_type": "stream",
          "text": [
            "/usr/local/lib/python3.10/dist-packages/transformers/generation/configuration_utils.py:628: UserWarning: `do_sample` is set to `False`. However, `temperature` is set to `0.8` -- this flag is only used in sample-based generation modes. You should set `do_sample=True` or unset `temperature`.\n",
            "  warnings.warn(\n"
          ]
        },
        {
          "output_type": "display_data",
          "data": {
            "text/plain": [
              "<Figure size 640x480 with 1 Axes>"
            ],
            "image/png": "[encoded data removed]"
          },
          "metadata": {}
        }
      ]
    },
    {
      "cell_type": "code",
      "source": [],
      "metadata": {
        "id": "QvsnlsSpoeJO"
      },
      "execution_count": 64,
      "outputs": []
    }
  ]
}